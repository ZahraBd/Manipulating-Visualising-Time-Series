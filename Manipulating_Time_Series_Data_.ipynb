{
  "cells": [
    {
      "cell_type": "code",
      "execution_count": 3,
      "metadata": {
        "colab": {
          "base_uri": "https://localhost:8080/"
        },
        "id": "u97Jyk-KftbH",
        "outputId": "87cab2a1-4773-45cb-bdcb-165d614f6f3d"
      },
      "outputs": [
        {
          "output_type": "stream",
          "name": "stdout",
          "text": [
            "Drive already mounted at /content/drive; to attempt to forcibly remount, call drive.mount(\"/content/drive\", force_remount=True).\n"
          ]
        }
      ],
      "source": [
        "from google.colab import drive\n",
        "drive.mount('/content/drive')"
      ]
    },
    {
      "cell_type": "code",
      "execution_count": 4,
      "metadata": {
        "id": "J0KmV3iVgWpE"
      },
      "outputs": [],
      "source": [
        "import pandas as pd\n",
        "import numpy as np\n",
        "from datetime import datetime\n"
      ]
    },
    {
      "cell_type": "code",
      "execution_count": null,
      "metadata": {
        "id": "BcjY5YBHgcK_"
      },
      "outputs": [],
      "source": [
        "import os\n",
        "import pandas as pd\n",
        "\n",
        "def merge_csv_files(root_folder):\n",
        "    all_files = []\n",
        "    for root, dirs, files in os.walk(root_folder):\n",
        "        for file in files:\n",
        "            if file.endswith(\".csv\"):\n",
        "                file_path = os.path.join(root, file)\n",
        "                all_files.append(file_path)\n",
        "\n",
        "    if len(all_files) == 0:\n",
        "        print(\"No CSV files found in the specified folders.\")\n",
        "        return\n",
        "\n",
        "    dfs = []\n",
        "    for file_path in all_files:\n",
        "        df = pd.read_csv(file_path)\n",
        "        dfs.append(df)\n",
        "\n",
        "    merged_df = pd.concat(dfs, ignore_index=True)\n",
        "\n",
        "    return merged_df\n",
        "\n",
        "# Specify the root folder containing the CSV files\n",
        "root_folder = \"/content/drive/MyDrive/Energy time/\"\n",
        "merged_data = merge_csv_files(root_folder)"
      ]
    },
    {
      "cell_type": "code",
      "execution_count": null,
      "metadata": {
        "id": "IEDlYt7YggKs"
      },
      "outputs": [],
      "source": [
        "ts = merged_data\n",
        "ts.head(3)"
      ]
    },
    {
      "cell_type": "code",
      "execution_count": 6,
      "metadata": {
        "id": "2M5VFS_shQNt"
      },
      "outputs": [],
      "source": [
        "import pandas as pd\n",
        "import numpy as np\n",
        "from datetime import datetime\n",
        "\n",
        "# Create a time series dataset\n",
        "date_range = pd.date_range(start='2022-01-01', end='2022-12-31')\n",
        "data = np.random.randn(len(date_range))\n",
        "ts = pd.Series(data, index=date_range)"
      ]
    },
    {
      "cell_type": "code",
      "execution_count": 7,
      "metadata": {
        "colab": {
          "base_uri": "https://localhost:8080/"
        },
        "id": "OT-NwaJqhS2f",
        "outputId": "e7ef24b9-ea47-4199-9d45-07c7a132740c"
      },
      "outputs": [
        {
          "output_type": "execute_result",
          "data": {
            "text/plain": [
              "2022-01-01   -1.379896\n",
              "2022-01-02    0.046909\n",
              "2022-01-03   -0.354112\n",
              "2022-01-04   -1.010931\n",
              "2022-01-05   -0.622216\n",
              "Freq: D, dtype: float64"
            ]
          },
          "metadata": {},
          "execution_count": 7
        }
      ],
      "source": [
        "ts.head()"
      ]
    },
    {
      "cell_type": "code",
      "source": [
        "ts.shape"
      ],
      "metadata": {
        "colab": {
          "base_uri": "https://localhost:8080/"
        },
        "id": "flZkyGpGpEoT",
        "outputId": "757d56a1-ecd7-4522-ac05-ffe39b4c5e68"
      },
      "execution_count": 8,
      "outputs": [
        {
          "output_type": "execute_result",
          "data": {
            "text/plain": [
              "(365,)"
            ]
          },
          "metadata": {},
          "execution_count": 8
        }
      ]
    },
    {
      "cell_type": "code",
      "execution_count": 9,
      "metadata": {
        "colab": {
          "base_uri": "https://localhost:8080/"
        },
        "id": "vk83Ax0NhC73",
        "outputId": "7ce8482f-90a6-4550-d3f3-47f79a323e6c"
      },
      "outputs": [
        {
          "output_type": "stream",
          "name": "stdout",
          "text": [
            "\n",
            "Resampled Monthly Time Series:\n",
            "2022-01-31   -0.061706\n",
            "2022-02-28   -0.247124\n",
            "2022-03-31   -0.387892\n",
            "2022-04-30   -0.006515\n",
            "2022-05-31   -0.087959\n",
            "2022-06-30    0.013586\n",
            "2022-07-31    0.216321\n",
            "2022-08-31    0.083102\n",
            "2022-09-30   -0.032644\n",
            "2022-10-31   -0.108859\n",
            "2022-11-30    0.038790\n",
            "2022-12-31    0.019070\n",
            "Freq: M, dtype: float64\n"
          ]
        }
      ],
      "source": [
        "# Resampling: Convert daily data to monthly data\n",
        "monthly_ts = ts.resample('M').mean()\n",
        "print(\"\\nResampled Monthly Time Series:\")\n",
        "print(monthly_ts)"
      ]
    },
    {
      "cell_type": "code",
      "execution_count": 10,
      "metadata": {
        "colab": {
          "base_uri": "https://localhost:8080/"
        },
        "id": "wOx9yNhXhhO2",
        "outputId": "f5905e03-9712-4aff-f1be-f1c66e03e980"
      },
      "outputs": [
        {
          "output_type": "stream",
          "name": "stdout",
          "text": [
            "\n",
            "Shifted Time Series:\n",
            "2022-01-01         NaN\n",
            "2022-01-02         NaN\n",
            "2022-01-03   -1.379896\n",
            "2022-01-04    0.046909\n",
            "2022-01-05   -0.354112\n",
            "                ...   \n",
            "2022-12-27   -0.348218\n",
            "2022-12-28    0.723954\n",
            "2022-12-29   -0.665920\n",
            "2022-12-30   -0.365966\n",
            "2022-12-31   -0.692098\n",
            "Freq: D, Length: 365, dtype: float64\n"
          ]
        }
      ],
      "source": [
        "# Shifting: Shift the time series by a certain number of periods\n",
        "shifted_ts = ts.shift(periods=2)\n",
        "print(\"\\nShifted Time Series:\")\n",
        "print(shifted_ts)"
      ]
    },
    {
      "cell_type": "code",
      "execution_count": 11,
      "metadata": {
        "colab": {
          "base_uri": "https://localhost:8080/"
        },
        "id": "I7cCi3-qiPE8",
        "outputId": "97553ab2-f10d-48ab-8a9a-7f7894dfe943"
      },
      "outputs": [
        {
          "output_type": "stream",
          "name": "stdout",
          "text": [
            "\n",
            "Rolling Mean Time Series:\n",
            "2022-01-01         NaN\n",
            "2022-01-02         NaN\n",
            "2022-01-03   -0.562366\n",
            "2022-01-04   -0.439378\n",
            "2022-01-05   -0.662420\n",
            "                ...   \n",
            "2022-12-27   -0.096728\n",
            "2022-12-28   -0.102644\n",
            "2022-12-29   -0.574661\n",
            "2022-12-30    0.129751\n",
            "2022-12-31    0.716432\n",
            "Freq: D, Length: 365, dtype: float64\n"
          ]
        }
      ],
      "source": [
        "# Rolling window: Calculate rolling mean over a window\n",
        "rolling_mean = ts.rolling(window=3).mean()\n",
        "print(\"\\nRolling Mean Time Series:\")\n",
        "print(rolling_mean)\n"
      ]
    },
    {
      "cell_type": "code",
      "execution_count": 12,
      "metadata": {
        "colab": {
          "base_uri": "https://localhost:8080/"
        },
        "id": "INbZsDvwiTnQ",
        "outputId": "0fb28158-ce92-4cfc-ba3d-5c1d64159e5d"
      },
      "outputs": [
        {
          "output_type": "stream",
          "name": "stdout",
          "text": [
            "\n",
            "Date Range Generation:\n",
            "DatetimeIndex(['2022-01-01', '2022-01-02', '2022-01-03', '2022-01-04',\n",
            "               '2022-01-05'],\n",
            "              dtype='datetime64[ns]', freq='D')\n"
          ]
        }
      ],
      "source": [
        "# Date Range Generation\n",
        "date_range_2 = pd.date_range(start='2022-01-01', periods=5)\n",
        "print(\"\\nDate Range Generation:\")\n",
        "print(date_range_2)"
      ]
    },
    {
      "cell_type": "code",
      "source": [
        "# Date Range Generation\n",
        "date_range_2 = pd.date_range(start='2022-01-01', periods=5)\n",
        "print(\"\\nDate Range Generation:\")\n",
        "print(date_range_2)"
      ],
      "metadata": {
        "colab": {
          "base_uri": "https://localhost:8080/"
        },
        "id": "U_RK6Usup12S",
        "outputId": "38b7e20b-815e-4f67-905c-c8a1b13dfc52"
      },
      "execution_count": 13,
      "outputs": [
        {
          "output_type": "stream",
          "name": "stdout",
          "text": [
            "\n",
            "Date Range Generation:\n",
            "DatetimeIndex(['2022-01-01', '2022-01-02', '2022-01-03', '2022-01-04',\n",
            "               '2022-01-05'],\n",
            "              dtype='datetime64[ns]', freq='D')\n"
          ]
        }
      ]
    },
    {
      "cell_type": "code",
      "source": [
        "type(date_range_2)"
      ],
      "metadata": {
        "id": "d-wW2b9yqgsc",
        "outputId": "6a93b290-d5dc-404d-bc28-d135074ca90d",
        "colab": {
          "base_uri": "https://localhost:8080/"
        }
      },
      "execution_count": 14,
      "outputs": [
        {
          "output_type": "execute_result",
          "data": {
            "text/plain": [
              "pandas.core.indexes.datetimes.DatetimeIndex"
            ]
          },
          "metadata": {},
          "execution_count": 14
        }
      ]
    },
    {
      "cell_type": "code",
      "execution_count": 15,
      "metadata": {
        "colab": {
          "base_uri": "https://localhost:8080/"
        },
        "id": "oZhF8clkikhx",
        "outputId": "5592f9fc-9d1b-4c67-d375-8d1087adf49d"
      },
      "outputs": [
        {
          "output_type": "stream",
          "name": "stdout",
          "text": [
            "\n",
            "Date Range Indexing:\n",
            "2022-01-02    0.046909\n",
            "2022-01-03   -0.354112\n",
            "2022-01-04   -1.010931\n",
            "Freq: D, dtype: float64\n"
          ]
        }
      ],
      "source": [
        "# Date Range Indexing\n",
        "indexed_ts = ts[date_range_2[1]:date_range_2[3]]\n",
        "print(\"\\nDate Range Indexing:\")\n",
        "print(indexed_ts)"
      ]
    },
    {
      "cell_type": "code",
      "execution_count": 16,
      "metadata": {
        "id": "q5v5ShfAipcQ",
        "colab": {
          "base_uri": "https://localhost:8080/"
        },
        "outputId": "8195c8d1-49e3-455f-9f0b-65ebc97c48d2"
      },
      "outputs": [
        {
          "output_type": "stream",
          "name": "stdout",
          "text": [
            "\n",
            "Time Series with Missing Values:\n",
            "2022-01-01   -1.379896\n",
            "2022-01-02    0.046909\n",
            "2022-01-03         NaN\n",
            "2022-01-04   -1.010931\n",
            "2022-01-05   -0.622216\n",
            "                ...   \n",
            "2022-12-27   -0.665920\n",
            "2022-12-28   -0.365966\n",
            "2022-12-29   -0.692098\n",
            "2022-12-30    1.447317\n",
            "2022-12-31    1.394077\n",
            "Freq: D, Length: 365, dtype: float64\n",
            "\n",
            "Time Series after Filling Missing Values:\n",
            "2022-01-01   -1.379896\n",
            "2022-01-02    0.046909\n",
            "2022-01-03    0.046909\n",
            "2022-01-04   -1.010931\n",
            "2022-01-05   -0.622216\n",
            "                ...   \n",
            "2022-12-27   -0.665920\n",
            "2022-12-28   -0.365966\n",
            "2022-12-29   -0.692098\n",
            "2022-12-30    1.447317\n",
            "2022-12-31    1.394077\n",
            "Freq: D, Length: 365, dtype: float64\n"
          ]
        }
      ],
      "source": [
        "# Handling Missing Values\n",
        "ts_with_missing = ts.copy()\n",
        "ts_with_missing[2] = np.nan\n",
        "print(\"\\nTime Series with Missing Values:\")\n",
        "print(ts_with_missing)\n",
        "print(\"\\nTime Series after Filling Missing Values:\")\n",
        "print(ts_with_missing.fillna(method='ffill'))"
      ]
    },
    {
      "cell_type": "code",
      "source": [
        "# Date Range Frequency\n",
        "date_range_3 = pd.date_range(start='2022-01-01', end='2022-12-31', freq='2D')\n",
        "print(\"\\nDate Range with Frequency of 2 Days:\")\n",
        "print(date_range_3)"
      ],
      "metadata": {
        "colab": {
          "base_uri": "https://localhost:8080/"
        },
        "id": "kT5EZTPmr0yM",
        "outputId": "b08a359f-f60b-486a-c48c-383195619612"
      },
      "execution_count": 17,
      "outputs": [
        {
          "output_type": "stream",
          "name": "stdout",
          "text": [
            "\n",
            "Date Range with Frequency of 2 Days:\n",
            "DatetimeIndex(['2022-01-01', '2022-01-03', '2022-01-05', '2022-01-07',\n",
            "               '2022-01-09', '2022-01-11', '2022-01-13', '2022-01-15',\n",
            "               '2022-01-17', '2022-01-19',\n",
            "               ...\n",
            "               '2022-12-13', '2022-12-15', '2022-12-17', '2022-12-19',\n",
            "               '2022-12-21', '2022-12-23', '2022-12-25', '2022-12-27',\n",
            "               '2022-12-29', '2022-12-31'],\n",
            "              dtype='datetime64[ns]', length=183, freq='2D')\n"
          ]
        }
      ]
    },
    {
      "cell_type": "code",
      "source": [
        "# Time Zone Handling\n",
        "ts_utc = ts.tz_localize('UTC')\n",
        "print(\"\\nTime Series with UTC Time Zone:\")\n",
        "print(ts_utc)"
      ],
      "metadata": {
        "colab": {
          "base_uri": "https://localhost:8080/"
        },
        "id": "YAOmSoBtr9AV",
        "outputId": "a529f689-cab5-4d4b-bcb7-de0c4fb4ebd5"
      },
      "execution_count": 18,
      "outputs": [
        {
          "output_type": "stream",
          "name": "stdout",
          "text": [
            "\n",
            "Time Series with UTC Time Zone:\n",
            "2022-01-01 00:00:00+00:00   -1.379896\n",
            "2022-01-02 00:00:00+00:00    0.046909\n",
            "2022-01-03 00:00:00+00:00   -0.354112\n",
            "2022-01-04 00:00:00+00:00   -1.010931\n",
            "2022-01-05 00:00:00+00:00   -0.622216\n",
            "                               ...   \n",
            "2022-12-27 00:00:00+00:00   -0.665920\n",
            "2022-12-28 00:00:00+00:00   -0.365966\n",
            "2022-12-29 00:00:00+00:00   -0.692098\n",
            "2022-12-30 00:00:00+00:00    1.447317\n",
            "2022-12-31 00:00:00+00:00    1.394077\n",
            "Freq: D, Length: 365, dtype: float64\n"
          ]
        }
      ]
    },
    {
      "cell_type": "code",
      "source": [
        "# Time Series Shifting (Time Zone)\n",
        "ts_utc_shifted = ts_utc.tz_convert('US/Eastern')\n",
        "print(\"\\nTime Series Shifted to US/Eastern Time Zone:\")\n",
        "print(ts_utc_shifted)"
      ],
      "metadata": {
        "colab": {
          "base_uri": "https://localhost:8080/"
        },
        "id": "ibYl--5Zr-0q",
        "outputId": "9324a304-3352-4619-8389-a11290e83ca6"
      },
      "execution_count": 19,
      "outputs": [
        {
          "output_type": "stream",
          "name": "stdout",
          "text": [
            "\n",
            "Time Series Shifted to US/Eastern Time Zone:\n",
            "2021-12-31 19:00:00-05:00   -1.379896\n",
            "2022-01-01 19:00:00-05:00    0.046909\n",
            "2022-01-02 19:00:00-05:00   -0.354112\n",
            "2022-01-03 19:00:00-05:00   -1.010931\n",
            "2022-01-04 19:00:00-05:00   -0.622216\n",
            "                               ...   \n",
            "2022-12-26 19:00:00-05:00   -0.665920\n",
            "2022-12-27 19:00:00-05:00   -0.365966\n",
            "2022-12-28 19:00:00-05:00   -0.692098\n",
            "2022-12-29 19:00:00-05:00    1.447317\n",
            "2022-12-30 19:00:00-05:00    1.394077\n",
            "Freq: D, Length: 365, dtype: float64\n"
          ]
        }
      ]
    },
    {
      "cell_type": "code",
      "execution_count": 20,
      "metadata": {
        "id": "KmiRbFT5gKId",
        "colab": {
          "base_uri": "https://localhost:8080/"
        },
        "outputId": "d26756f7-669d-4d19-b083-7e1e850d13c6"
      },
      "outputs": [
        {
          "output_type": "stream",
          "name": "stdout",
          "text": [
            "\n",
            "Timestamp to DateTime Conversion:\n",
            "2022-02-17 05:20:00\n"
          ]
        }
      ],
      "source": [
        "# Timestamp to DateTime Conversion\n",
        "timestamp = 1645075200000000000  # Nanoseconds since Unix epoch\n",
        "dt = pd.to_datetime(timestamp)\n",
        "print(\"\\nTimestamp to DateTime Conversion:\")\n",
        "print(dt)"
      ]
    }
  ],
  "metadata": {
    "colab": {
      "provenance": []
    },
    "kernelspec": {
      "display_name": "Python 3",
      "name": "python3"
    },
    "language_info": {
      "name": "python"
    }
  },
  "nbformat": 4,
  "nbformat_minor": 0
}